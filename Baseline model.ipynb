{
 "cells": [
  {
   "cell_type": "code",
   "execution_count": null,
   "metadata": {
    "id": "GFgKSuTcCUgx"
   },
   "outputs": [],
   "source": [
    "import numpy as np\n",
    "from PIL import Image\n",
    "\n",
    "def create_star_field(width, height, num_stars):\n",
    "    # Create a black image\n",
    "    image = Image.new('RGB', (width, height), 'black')\n",
    "    pixels = image.load()\n",
    "\n",
    "    # Randomly place stars\n",
    "    for _ in range(num_stars):\n",
    "        x = np.random.randint(0, width)\n",
    "        y = np.random.randint(0, height)\n",
    "        # Set the pixel color to white for stars\n",
    "        pixels[x, y] = (255, 255, 255)\n",
    "\n",
    "    return image\n",
    "\n",
    "# Create an image with 10,000 stars uniformly distributed\n",
    "star_image = create_star_field(3200, 3200, 25000)\n",
    "star_image.show()  # Display the image\n",
    "\n",
    "#save\n",
    "star_image.save('uniform_star_field5000.png')\n"
   ]
  },
  {
   "cell_type": "code",
   "execution_count": null,
   "metadata": {
    "id": "Htia970s-gV3"
   },
   "outputs": [],
   "source": []
  }
 ],
 "metadata": {
  "colab": {
   "provenance": []
  },
  "kernelspec": {
   "display_name": "Python 3",
   "name": "python3"
  },
  "language_info": {
   "name": "python"
  }
 },
 "nbformat": 4,
 "nbformat_minor": 0
}
